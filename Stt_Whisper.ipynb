{
 "cells": [
  {
   "cell_type": "code",
   "execution_count": null,
   "id": "7e994623-fa9b-46e7-9de1-024c0cf3c7c3",
   "metadata": {},
   "outputs": [
    {
     "name": "stdin",
     "output_type": "stream",
     "text": [
      "Enter language code (e.g., 'en' for English):  en\n"
     ]
    },
    {
     "name": "stderr",
     "output_type": "stream",
     "text": [
      "Device set to use cpu\n"
     ]
    }
   ],
   "source": [
    "from pydub import AudioSegment\n",
    "from transformers import pipeline\n",
    "import os\n",
    "import warnings\n",
    "\n",
    "# Suppress Warnings\n",
    "warnings.filterwarnings(\"ignore\")\n",
    "\n",
    "# Now we can select the language\n",
    "language = input(\"Enter language code (e.g., 'en' for English): \").strip()\n",
    "\n",
    "#Using whisper model we can load and set language\n",
    "stt_pipeline = pipeline(\n",
    "    \"automatic-speech-recognition\",\n",
    "    model=\"openai/whisper-small\",\n",
    "    generate_kwargs={\"language\": language}  \n",
    ")\n",
    "\n",
    "#This code will load the audio file\n",
    "audio = AudioSegment.from_mp3(\"becky-dating-voice-message-28843.mp3\")\n",
    "\n",
    "#we have to split to 30 second chunks\n",
    "chunk_length = 30 * 1000  # 30 seconds in milliseconds\n",
    "chunks = [audio[i: i + chunk_length] for i in range(0, len(audio), chunk_length)]\n",
    "\n",
    "#This is the process of chunk\n",
    "full_transcription = \"\"\n",
    "for i, chunk in enumerate(chunks):\n",
    "    chunk_path = f\"chunk_{i}.wav\"\n",
    "    chunk.export(chunk_path, format=\"wav\")\n",
    "    result = stt_pipeline(chunk_path)\n",
    "    full_transcription += result[\"text\"] + \" \"\n",
    "    \n",
    "    os.remove(chunk_path)  \n",
    "\n",
    "#Now it will save transcription to a text file\n",
    "output_file = f\"transcription_{language}.txt\"\n",
    "with open(output_file, \"w\", encoding=\"utf-8\") as f:\n",
    "    f.write(full_transcription.strip())\n",
    "\n",
    "print(f\"Transcription saved to {output_file}\")\n"
   ]
  },
  {
   "cell_type": "code",
   "execution_count": null,
   "id": "87fa1533-3986-4c1d-8cf1-7d0a3f32e52b",
   "metadata": {},
   "outputs": [],
   "source": []
  }
 ],
 "metadata": {
  "kernelspec": {
   "display_name": "Python 3 (ipykernel)",
   "language": "python",
   "name": "python3"
  },
  "language_info": {
   "codemirror_mode": {
    "name": "ipython",
    "version": 3
   },
   "file_extension": ".py",
   "mimetype": "text/x-python",
   "name": "python",
   "nbconvert_exporter": "python",
   "pygments_lexer": "ipython3",
   "version": "3.12.9"
  }
 },
 "nbformat": 4,
 "nbformat_minor": 5
}
